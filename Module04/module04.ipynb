{
 "cells": [
  {
   "cell_type": "markdown",
   "metadata": {},
   "source": [
    "# while loop examples\n",
    "* Include numbers\n",
    "* make sure to include string building examples\n"
   ]
  },
  {
   "cell_type": "code",
   "execution_count": 2,
   "metadata": {},
   "outputs": [
    {
     "data": {
      "text/plain": [
       "False"
      ]
     },
     "execution_count": 2,
     "metadata": {},
     "output_type": "execute_result"
    }
   ],
   "source": [
    "x = 0\n",
    "x > 0"
   ]
  },
  {
   "cell_type": "code",
   "execution_count": 18,
   "metadata": {},
   "outputs": [],
   "source": [
    "def example_one_simple_counter(until: int) -> int:\n",
    "    \"\"\"yes, you should have a docstring\"\"\"\n",
    "    x = 0\n",
    "    count = 0\n",
    "    while x <= until:\n",
    "        if x % 2 == 1:\n",
    "            count += 1\n",
    "        x += 1\n",
    "    return count\n",
    "    "
   ]
  },
  {
   "cell_type": "code",
   "execution_count": 19,
   "metadata": {},
   "outputs": [
    {
     "name": "stdout",
     "output_type": "stream",
     "text": [
      "There are 50000 numbers.\n"
     ]
    }
   ],
   "source": [
    "odds = example_one_simple_counter(100000)\n",
    "print(f\"There are {odds} numbers.\")"
   ]
  },
  {
   "cell_type": "code",
   "execution_count": 20,
   "metadata": {},
   "outputs": [],
   "source": [
    "def example_one_simple_counter_str(until: int) -> str:\n",
    "    \"\"\"yes, you should have a docstring\"\"\"\n",
    "    x = 0\n",
    "    count = ''\n",
    "    while x <= until:\n",
    "        if x % 2 == 1:\n",
    "            count += str(x) + \",\"\n",
    "        x += 1\n",
    "    return count\n",
    "    "
   ]
  },
  {
   "cell_type": "code",
   "execution_count": 21,
   "metadata": {},
   "outputs": [
    {
     "data": {
      "text/plain": [
       "'1,3,5,7,9,'"
      ]
     },
     "execution_count": 21,
     "metadata": {},
     "output_type": "execute_result"
    }
   ],
   "source": [
    "example_one_simple_counter_str(10)"
   ]
  },
  {
   "cell_type": "markdown",
   "metadata": {},
   "source": [
    "Thinking relative to combo lock"
   ]
  },
  {
   "cell_type": "code",
   "execution_count": 22,
   "metadata": {},
   "outputs": [],
   "source": [
    "import random\n",
    "\n",
    "def randomly_return_true():\n",
    "    if random.randint(0, 1):\n",
    "        return True\n",
    "    else:\n",
    "        return False"
   ]
  },
  {
   "cell_type": "code",
   "execution_count": 26,
   "metadata": {},
   "outputs": [
    {
     "data": {
      "text/plain": [
       "True"
      ]
     },
     "execution_count": 26,
     "metadata": {},
     "output_type": "execute_result"
    }
   ],
   "source": [
    "randomly_return_true()"
   ]
  },
  {
   "cell_type": "code",
   "execution_count": 82,
   "metadata": {},
   "outputs": [],
   "source": [
    "def count_number_of_falses() -> int:\n",
    "    i = 0\n",
    "    while not randomly_return_true():   ## closer to your combo lock\n",
    "        i += 1\n",
    "    return i"
   ]
  },
  {
   "cell_type": "code",
   "execution_count": 122,
   "metadata": {},
   "outputs": [],
   "source": [
    "def call_count_number_of_falses(amount: int) -> float:\n",
    "    i = 0\n",
    "    sum = 0\n",
    "    while i < amount:\n",
    "        sum += count_number_of_falses()\n",
    "        i += 1 \n",
    "    return sum / amount\n"
   ]
  },
  {
   "cell_type": "code",
   "execution_count": 199,
   "metadata": {},
   "outputs": [
    {
     "data": {
      "text/plain": [
       "4.97"
      ]
     },
     "execution_count": 199,
     "metadata": {},
     "output_type": "execute_result"
    }
   ],
   "source": [
    "call_count_number_of_falses(100)"
   ]
  },
  {
   "cell_type": "markdown",
   "metadata": {},
   "source": [
    "* first define condition\n",
    "* second define iterator (including variable)\n",
    "* Run it to make sure it doesn't loop forever\n",
    "* then work on the middle of the loop"
   ]
  },
  {
   "cell_type": "code",
   "execution_count": 22,
   "metadata": {},
   "outputs": [],
   "source": [
    "def pattern(size: int = 10, space: str = ' ', edge: str = '+'):\n",
    "    \"\"\" Going to make a box pattern with ' ' (space) for inside and + for edge\"\"\"\n",
    "    lines = 0\n",
    "    box = ''\n",
    "    while lines < size:\n",
    "        if (lines == 0) or (lines == size - 1):\n",
    "            box += edge * size + '\\n'\n",
    "        else:\n",
    "            box += edge + (space * (size-2))  + edge +'\\n'\n",
    "        lines += 1\n",
    "\n",
    "    return box\n"
   ]
  },
  {
   "cell_type": "code",
   "execution_count": 24,
   "metadata": {},
   "outputs": [
    {
     "name": "stdout",
     "output_type": "stream",
     "text": [
      "++++++++++\n",
      "+        +\n",
      "+        +\n",
      "+        +\n",
      "+        +\n",
      "+        +\n",
      "+        +\n",
      "+        +\n",
      "+        +\n",
      "++++++++++\n",
      "\n"
     ]
    }
   ],
   "source": [
    "answer = pattern()\n",
    "print(answer)"
   ]
  },
  {
   "cell_type": "code",
   "execution_count": 51,
   "metadata": {},
   "outputs": [],
   "source": [
    "def pattern_right_triangle(size: int = 11, space: str = ' ', fill: str = '+'):\n",
    "    \"\"\" Going to make a triangle pattern with ' ' (space) for inside and + for edge\"\"\"\n",
    "    triangle = ''   \n",
    "    lines = 0\n",
    "    fill_count = 1\n",
    "    while lines < size:\n",
    "        triangle +=  (fill * fill_count) + (space * (size - fill_count)) + \"\\n\"\n",
    "        lines += 1\n",
    "        fill_count += 1\n",
    "\n",
    "\n",
    "    return triangle\n"
   ]
  },
  {
   "cell_type": "code",
   "execution_count": 52,
   "metadata": {},
   "outputs": [
    {
     "name": "stdout",
     "output_type": "stream",
     "text": [
      "+..........\n",
      "++.........\n",
      "+++........\n",
      "++++.......\n",
      "+++++......\n",
      "++++++.....\n",
      "+++++++....\n",
      "++++++++...\n",
      "+++++++++..\n",
      "++++++++++.\n",
      "+++++++++++\n",
      "\n"
     ]
    }
   ],
   "source": [
    "print(pattern_right_triangle(space = '.'))"
   ]
  },
  {
   "cell_type": "code",
   "execution_count": 77,
   "metadata": {},
   "outputs": [],
   "source": [
    "def pattern_triangle(size: int = 11, space: str = ' ', fill: str = '+'):\n",
    "    \"\"\" Going to make a triangle pattern with ' ' (space) for inside and + for edge\"\"\"\n",
    "    triangle = ''   \n",
    "    lines = 0\n",
    "    fill_count = 0\n",
    "    remove = 1\n",
    "    while lines < size*2:\n",
    "        if lines % 2 == 1:\n",
    "            triangle +=  (space * (size-remove)) + (fill * fill_count) + (space * (size-remove)) + \"\\n\"\n",
    "            remove += 1\n",
    "        fill_count += 1\n",
    "        lines += 1\n",
    "\n",
    "    return triangle"
   ]
  },
  {
   "cell_type": "code",
   "execution_count": 79,
   "metadata": {},
   "outputs": [
    {
     "name": "stdout",
     "output_type": "stream",
     "text": [
      "          +          \n",
      "         +++         \n",
      "        +++++        \n",
      "       +++++++       \n",
      "      +++++++++      \n",
      "     +++++++++++     \n",
      "    +++++++++++++    \n",
      "   +++++++++++++++   \n",
      "  +++++++++++++++++  \n",
      " +++++++++++++++++++ \n",
      "+++++++++++++++++++++\n",
      "\n"
     ]
    }
   ],
   "source": [
    "print(pattern_triangle())"
   ]
  },
  {
   "cell_type": "markdown",
   "metadata": {},
   "source": [
    "* Key take away - modify both sides of the concatenation "
   ]
  }
 ],
 "metadata": {
  "kernelspec": {
   "display_name": "Python 3",
   "language": "python",
   "name": "python3"
  },
  "language_info": {
   "codemirror_mode": {
    "name": "ipython",
    "version": 3
   },
   "file_extension": ".py",
   "mimetype": "text/x-python",
   "name": "python",
   "nbconvert_exporter": "python",
   "pygments_lexer": "ipython3",
   "version": "3.11.1"
  }
 },
 "nbformat": 4,
 "nbformat_minor": 2
}
