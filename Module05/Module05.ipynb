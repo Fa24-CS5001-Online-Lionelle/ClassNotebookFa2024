{
 "cells": [
  {
   "cell_type": "markdown",
   "metadata": {},
   "source": [
    "# Module 05 Live Session"
   ]
  },
  {
   "cell_type": "markdown",
   "metadata": {},
   "source": [
    "## Tuple implementation / indexing\n",
    "\n",
    "Exploring indexes and tuples in particular (though this works for any sequence)\n",
    "\n",
    "### All Sequences\n",
    "\n",
    "* all of items/types inside\n",
    "* indices (locations of items)\n",
    "* always 0 or higher - or always start at 0 \n",
    "* all length `len`\n",
    "* last index is always `len(seq) - 1`\n",
    "\n",
    "### Lists Specifically\n",
    "* mutable \n",
    "\n",
    "### Tuples and Strings\n",
    "* immutable\n",
    "\n",
    "### What do tuples and strings - don't share\n",
    "* commas are splitters for tuples, but strings don't need them \n",
    "* tuples can have any type inside of it\n",
    "* strings only have strings (yes recursively redundant) types\n",
    "* strings have a rich library of methods to use - for example `str.strip()` (worth knowing not an official difference)"
   ]
  },
  {
   "cell_type": "code",
   "execution_count": 15,
   "metadata": {},
   "outputs": [],
   "source": [
    "cats = (\"black\", \"tabby\", \"calico\")"
   ]
  },
  {
   "cell_type": "code",
   "execution_count": 16,
   "metadata": {},
   "outputs": [
    {
     "name": "stdout",
     "output_type": "stream",
     "text": [
      "black\n",
      "tabby\n",
      "calico\n"
     ]
    }
   ],
   "source": [
    "for cat in cats:\n",
    "    print(cat)"
   ]
  },
  {
   "cell_type": "markdown",
   "metadata": {},
   "source": [
    "To get an value in a sequence, it is `VARABLE_NAME[indexvalue]`"
   ]
  },
  {
   "cell_type": "code",
   "execution_count": 33,
   "metadata": {},
   "outputs": [
    {
     "name": "stdout",
     "output_type": "stream",
     "text": [
      "tabby\n",
      "black2\n"
     ]
    }
   ],
   "source": [
    "print(cats[1])\n",
    "\n",
    "single = (\"black2\", \"tabby2\", \"calico2\")[0] # silly don't do this!\n",
    "print(single)"
   ]
  },
  {
   "cell_type": "markdown",
   "metadata": {},
   "source": [
    "Access the *last* element"
   ]
  },
  {
   "cell_type": "code",
   "execution_count": 22,
   "metadata": {},
   "outputs": [
    {
     "name": "stdout",
     "output_type": "stream",
     "text": [
      "calico\n"
     ]
    }
   ],
   "source": [
    "size = len(cats)\n",
    "last_index = size - 1  # for all sequences this is always true\n",
    "\n",
    "print(cats[last_index])\n"
   ]
  },
  {
   "cell_type": "markdown",
   "metadata": {},
   "source": [
    "Now I want a sub sequence, think of the \"splice\" or \"splice\" operator `:` inside bracket `[inclusive:exclusive]`"
   ]
  },
  {
   "cell_type": "code",
   "execution_count": 25,
   "metadata": {},
   "outputs": [
    {
     "name": "stdout",
     "output_type": "stream",
     "text": [
      "('tabby', 'calico')\n"
     ]
    }
   ],
   "source": [
    "exclude_first = cats[1:size]\n",
    "print(exclude_first)"
   ]
  },
  {
   "cell_type": "code",
   "execution_count": 27,
   "metadata": {},
   "outputs": [
    {
     "name": "stdout",
     "output_type": "stream",
     "text": [
      "('tabby', 'calico')\n"
     ]
    }
   ],
   "source": [
    "# equivalent to above:\n",
    "\n",
    "exclude_list = []\n",
    "counter = 1\n",
    "while counter < size:\n",
    "    exclude_list.append(cats[counter])\n",
    "    counter += 1\n",
    "\n",
    "exclude_tuple = tuple(exclude_list)\n",
    "print(exclude_tuple)"
   ]
  },
  {
   "cell_type": "markdown",
   "metadata": {},
   "source": [
    "Get the middle of a sequence"
   ]
  },
  {
   "cell_type": "code",
   "execution_count": 32,
   "metadata": {},
   "outputs": [
    {
     "name": "stdout",
     "output_type": "stream",
     "text": [
      "1\n",
      "tabby\n"
     ]
    }
   ],
   "source": [
    "middle = len(cats) // 2\n",
    "\n",
    "print(cats[middle])"
   ]
  },
  {
   "cell_type": "markdown",
   "metadata": {},
   "source": [
    "Since we have a sequence `tuple` of a sequence `str`, we can do the following"
   ]
  },
  {
   "cell_type": "code",
   "execution_count": 36,
   "metadata": {},
   "outputs": [
    {
     "name": "stdout",
     "output_type": "stream",
     "text": [
      "b same as b\n"
     ]
    }
   ],
   "source": [
    "first_of_cats = cats[0]\n",
    "first_letter_of_first_of_cats = first_of_cats[0]\n",
    "\n",
    "\n",
    "first_of_first = cats[0][0]\n",
    "print(first_of_first, \"same as\", first_letter_of_first_of_cats)"
   ]
  },
  {
   "cell_type": "markdown",
   "metadata": {},
   "source": [
    "0, 0, 0  \n",
    "1, 1, 1  \n",
    "2, 2, 2  \n",
    "matrix!  or a sequence of sequences"
   ]
  },
  {
   "cell_type": "code",
   "execution_count": 40,
   "metadata": {},
   "outputs": [
    {
     "name": "stdout",
     "output_type": "stream",
     "text": [
      "(0, 0, 0)\n",
      "('-', 1, '-')\n",
      "(2, 2, 2)\n",
      "1\n"
     ]
    }
   ],
   "source": [
    "matrix = ((0, 0, 0), (\"-\", 1, \"-\"), (2, 2, 2))\n",
    "\n",
    "for line in matrix:\n",
    "    print(line)\n",
    "\n",
    "print(matrix[1][1])"
   ]
  },
  {
   "cell_type": "markdown",
   "metadata": {},
   "source": [
    "## check_filter from homework - string indexing"
   ]
  },
  {
   "cell_type": "code",
   "execution_count": 51,
   "metadata": {},
   "outputs": [
    {
     "name": "stdout",
     "output_type": "stream",
     "text": [
      "5\n"
     ]
    }
   ],
   "source": [
    "string = \"100 > 5\" # can i find the index of >\n",
    "\n",
    "index_of_greater = string.find(\">\")\n",
    "right_side = string[index_of_greater+1:].strip()\n",
    "\n",
    "print(right_side)\n"
   ]
  },
  {
   "cell_type": "code",
   "execution_count": 56,
   "metadata": {},
   "outputs": [
    {
     "name": "stdout",
     "output_type": "stream",
     "text": [
      "5\n"
     ]
    }
   ],
   "source": [
    "string = \"100 >= 5\" # can i find the index of >=\n",
    "\n",
    "index_of_greater = string.find(\">=\")\n",
    "right_side = string[index_of_greater+ 2:].strip()\n",
    "\n",
    "print(right_side)\n"
   ]
  },
  {
   "cell_type": "code",
   "execution_count": 58,
   "metadata": {},
   "outputs": [
    {
     "name": "stdout",
     "output_type": "stream",
     "text": [
      "-1\n"
     ]
    }
   ],
   "source": [
    "print(string.find(\"a\"))"
   ]
  },
  {
   "cell_type": "code",
   "execution_count": 61,
   "metadata": {},
   "outputs": [
    {
     "name": "stdout",
     "output_type": "stream",
     "text": [
      "True\n",
      ">=\n",
      " 5\n"
     ]
    }
   ],
   "source": [
    "string2 = \">= 5\"\n",
    "\n",
    "print(string2.startswith(\">\")) #another way to go about it\n",
    "\n",
    "substring = string2[0:2] # this also helps a lot\n",
    "substring2 = string2[2:]\n",
    "\n",
    "print(substring)\n",
    "print(substring2)"
   ]
  },
  {
   "cell_type": "markdown",
   "metadata": {},
   "source": [
    "The rest of this code is an -if/elif statement, *ORDER MATTERS* on >, >=, etc - think about it. "
   ]
  }
 ],
 "metadata": {
  "kernelspec": {
   "display_name": "Python 3",
   "language": "python",
   "name": "python3"
  },
  "language_info": {
   "codemirror_mode": {
    "name": "ipython",
    "version": 3
   },
   "file_extension": ".py",
   "mimetype": "text/x-python",
   "name": "python",
   "nbconvert_exporter": "python",
   "pygments_lexer": "ipython3",
   "version": "3.11.1"
  }
 },
 "nbformat": 4,
 "nbformat_minor": 2
}
