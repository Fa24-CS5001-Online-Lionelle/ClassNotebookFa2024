{
 "cells": [
  {
   "cell_type": "markdown",
   "metadata": {},
   "source": [
    "# Live Session 02 - 9/12/2024\n",
    "\n",
    "Requested topics:\n",
    "* Jupyter Notebook adding images - x\n",
    "* Functions (in general) - x\n",
    "* Modulo - x\n",
    "* Help Function - x"
   ]
  },
  {
   "attachments": {
    "image.png": {
     "image/png": "[encoded data removed]"
    }
   },
   "cell_type": "markdown",
   "metadata": {},
   "source": [
    "![image.png](attachment:image.png)\n",
    "\n",
    "useful for hitting shift enter, and going into side by side - but need to remember to set this. \n",
    "\n",
    "to use a random image that is stored on your hard -drive\n",
    "\n",
    "![Northeastern Logo](neu_logo.jfif)\n"
   ]
  },
  {
   "cell_type": "markdown",
   "metadata": {},
   "source": [
    "## Functions\n",
    "\n",
    "* don't repeat yourself\n",
    "* repeatable actions written once"
   ]
  },
  {
   "cell_type": "markdown",
   "metadata": {},
   "source": []
  },
  {
   "cell_type": "code",
   "execution_count": 5,
   "metadata": {},
   "outputs": [],
   "source": [
    "def add_one(value: int) -> int: \n",
    "   \"\"\" This function adds one to whatever whole number value is passed and returns the new value.  \n",
    "       \n",
    "       Examples:\n",
    "          >>> add_one(5)\n",
    "          6\n",
    "          >>> add_one(0)\n",
    "          1\n",
    "          >>> add_one(-1)\n",
    "          0\n",
    "   \n",
    "       Args:\n",
    "          value (int): the number you want to add one to\n",
    "\n",
    "       Returns:\n",
    "          (int): a whole number value one more than value \n",
    "   \"\"\"\n",
    "   return value + 1\n",
    "   "
   ]
  },
  {
   "cell_type": "code",
   "execution_count": 7,
   "metadata": {},
   "outputs": [
    {
     "name": "stdout",
     "output_type": "stream",
     "text": [
      "6\n",
      "1\n",
      "0\n"
     ]
    }
   ],
   "source": [
    "print(add_one(5))\n",
    "print(add_one(0))\n",
    "print(add_one(-1))\n"
   ]
  },
  {
   "cell_type": "code",
   "execution_count": 8,
   "metadata": {},
   "outputs": [
    {
     "name": "stdout",
     "output_type": "stream",
     "text": [
      "Help on function add_one in module __main__:\n",
      "\n",
      "add_one(value: int) -> int\n",
      "    This function adds one to whatever whole number value is passed and returns the new value.  \n",
      "    \n",
      "    Examples:\n",
      "       >>> add_one(5)\n",
      "       6\n",
      "       >>> add_one(0)\n",
      "       1\n",
      "       >>> add_one(-1)\n",
      "       0\n",
      "    \n",
      "    Args:\n",
      "       value (int): the number you want to add one to\n",
      "    \n",
      "    Returns:\n",
      "       (int): a whole number value one more than value\n",
      "\n"
     ]
    }
   ],
   "source": [
    "help(add_one)"
   ]
  },
  {
   "cell_type": "code",
   "execution_count": 10,
   "metadata": {},
   "outputs": [
    {
     "data": {
      "text/plain": [
       "1"
      ]
     },
     "execution_count": 10,
     "metadata": {},
     "output_type": "execute_result"
    }
   ],
   "source": [
    "value = 10\n",
    "value2 = 3 \n",
    "\n",
    "value % value2"
   ]
  },
  {
   "cell_type": "markdown",
   "metadata": {},
   "source": [
    "Always going to have 0 to n-1, if n is what I am using for modulo. \n",
    "\n",
    "* modulo = 3, remainder options are 0, 1, 2\n",
    "* modulo = 10, remainder options are 0, 1, 2, 3, 4, 5, 6, 7, 8, 9\n",
    "\n",
    "CAVEAT - POSITIVE numbers"
   ]
  },
  {
   "cell_type": "markdown",
   "metadata": {},
   "source": [
    "Cases it is useful\n",
    "* useful for leftovers\n",
    "* useful for dice\n",
    "* verify accounts - verify end of a digits\n",
    "* even or odd (on positive values) use % 2\n",
    "* rebuilding grids\n",
    "* hashing/grouping into buckets / teams / groups "
   ]
  },
  {
   "cell_type": "code",
   "execution_count": 62,
   "metadata": {},
   "outputs": [
    {
     "name": "stdout",
     "output_type": "stream",
     "text": [
      "5\n",
      "7\n",
      "6\n"
     ]
    }
   ],
   "source": [
    "import random \n",
    "\n",
    "def roll_dice(sides: int) -> int:\n",
    "    \"\"\" docstring small for now\"\"\"\n",
    "    return (int(random.random() * 100) % sides) + 1\n",
    "\n",
    "print(roll_dice(8))\n",
    "print(roll_dice(20))\n",
    "print(roll_dice(6))"
   ]
  },
  {
   "cell_type": "code",
   "execution_count": 70,
   "metadata": {},
   "outputs": [
    {
     "name": "stdout",
     "output_type": "stream",
     "text": [
      "4,6\n"
     ]
    }
   ],
   "source": [
    "seat = 36  # figure out row and seat \n",
    "\n",
    "row = seat // 10 + 1\n",
    "loc = seat % 10\n",
    "print(f\"{row},{loc}\")"
   ]
  },
  {
   "cell_type": "markdown",
   "metadata": {},
   "source": []
  }
 ],
 "metadata": {
  "kernelspec": {
   "display_name": "Python 3",
   "language": "python",
   "name": "python3"
  },
  "language_info": {
   "codemirror_mode": {
    "name": "ipython",
    "version": 3
   },
   "file_extension": ".py",
   "mimetype": "text/x-python",
   "name": "python",
   "nbconvert_exporter": "python",
   "pygments_lexer": "ipython3",
   "version": "3.11.1"
  }
 },
 "nbformat": 4,
 "nbformat_minor": 2
}
